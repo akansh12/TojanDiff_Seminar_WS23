{
 "cells": [
  {
   "cell_type": "markdown",
   "metadata": {},
   "source": [
    "<figure style=\"text-align:center\">\n",
    "  <img\n",
    "  src=\"../images/intro_slide_img.jpg\"\n",
    "  alt=\"Advanced Topics in Diffusion Modeling - From Theory to Implementation UDS WS 2023\"\n",
    "  width=\"50%\">\n",
    "  <figcaption>Advanced Topics in Diffusion Modeling - From Theory to Implementation UDS WS 2023-24</figcaption>\n",
    "</figure>\n"
   ]
  },
  {
   "cell_type": "markdown",
   "metadata": {},
   "source": [
    "#### Table of Contents\n",
    "* [What are Trojan Attacks?](#section-1)\n",
    "* [Section 2](#section-2)\n",
    "    * [Subsection A](#subsection-a)\n",
    "    * [Subsection B](#subsection-b)\n"
   ]
  },
  {
   "cell_type": "markdown",
   "metadata": {},
   "source": [
    "##### What are Trojan Attacks? \n",
    "<a id='section-1'></a>\n",
    "- Trojan attacks, also known as Trojan horse attacks or backdoor attacks, are a form of adversarial attack on machine learning models.\n",
    "- During training, the attacker injects a trojan trigger into the training data, causing the model to learn an undesirable correlation between the trigger and the target class.\n",
    "- Inference with a trojaned model results in it always predicting the adversarial target class when the trojan trigger is present in the input.\n",
    "- Detecting trojan attacks can be challenging.\n",
    "- They pose significant security risks in critical applications."
   ]
  },
  {
   "cell_type": "code",
   "execution_count": null,
   "metadata": {},
   "outputs": [],
   "source": []
  },
  {
   "cell_type": "markdown",
   "metadata": {},
   "source": [
    "- In the following code, I will show an example for Trojan Attack on MNIST data with patch based attack. "
   ]
  },
  {
   "cell_type": "markdown",
   "metadata": {},
   "source": []
  }
 ],
 "metadata": {
  "kernelspec": {
   "display_name": "base",
   "language": "python",
   "name": "python3"
  },
  "language_info": {
   "codemirror_mode": {
    "name": "ipython",
    "version": 3
   },
   "file_extension": ".py",
   "mimetype": "text/x-python",
   "name": "python",
   "nbconvert_exporter": "python",
   "pygments_lexer": "ipython3",
   "version": "3.11.4"
  }
 },
 "nbformat": 4,
 "nbformat_minor": 2
}
